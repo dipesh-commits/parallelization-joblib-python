{
 "cells": [
  {
   "cell_type": "markdown",
   "id": "f575e739-7f6e-45f1-a0fe-f2ac9c4e9053",
   "metadata": {},
   "source": [
    "## I have created a script for implementation of parallelization using joblib for small number of data. If there are host of data, replace your function to be implemented and then run joblib paralleization command"
   ]
  },
  {
   "cell_type": "code",
   "execution_count": 7,
   "id": "fe62f92a-b2cd-484b-ae0c-667c7c96832b",
   "metadata": {},
   "outputs": [],
   "source": [
    "import time, math, multiprocessing\n",
    "from joblib import Parallel, delayed\n",
    "from loguru import logger"
   ]
  },
  {
   "cell_type": "markdown",
   "id": "4396766a-4b0d-4dab-b7cb-621e7fbb4990",
   "metadata": {},
   "source": [
    "## Defining a function to be square of a number after cubing it.. (You can use your required function)"
   ]
  },
  {
   "cell_type": "code",
   "execution_count": 8,
   "id": "d740fe03-9c37-45de-a805-6e268c6f10a8",
   "metadata": {},
   "outputs": [],
   "source": [
    "def get_square(num):\n",
    "    time.sleep(1)\n",
    "    def _get_cube(num):\n",
    "        return math.pow(num,3)\n",
    "    squared = math.pow(_get_cube(num),2)\n",
    "    logger.info(f\"The square of {num} after cubing it: {squared}\")\n",
    "    return squared"
   ]
  },
  {
   "cell_type": "markdown",
   "id": "20555fbd-308f-4f53-a754-74e878450ea6",
   "metadata": {},
   "source": [
    "## Calculating total time required using normal loop"
   ]
  },
  {
   "cell_type": "code",
   "execution_count": 9,
   "id": "d573c091-ba9a-4df8-bf45-21e18774e7a7",
   "metadata": {},
   "outputs": [
    {
     "name": "stderr",
     "output_type": "stream",
     "text": [
      "2021-05-15 10:41:30.507 | INFO     | __main__:get_square:6 - The square of 0 after cubing it: 0.0\n",
      "2021-05-15 10:41:31.510 | INFO     | __main__:get_square:6 - The square of 1 after cubing it: 1.0\n",
      "2021-05-15 10:41:32.515 | INFO     | __main__:get_square:6 - The square of 2 after cubing it: 64.0\n",
      "2021-05-15 10:41:33.520 | INFO     | __main__:get_square:6 - The square of 3 after cubing it: 729.0\n",
      "2021-05-15 10:41:34.525 | INFO     | __main__:get_square:6 - The square of 4 after cubing it: 4096.0\n",
      "2021-05-15 10:41:35.528 | INFO     | __main__:get_square:6 - The square of 5 after cubing it: 15625.0\n",
      "2021-05-15 10:41:36.533 | INFO     | __main__:get_square:6 - The square of 6 after cubing it: 46656.0\n",
      "2021-05-15 10:41:37.538 | INFO     | __main__:get_square:6 - The square of 7 after cubing it: 117649.0\n",
      "2021-05-15 10:41:38.542 | INFO     | __main__:get_square:6 - The square of 8 after cubing it: 262144.0\n",
      "2021-05-15 10:41:39.544 | INFO     | __main__:get_square:6 - The square of 9 after cubing it: 531441.0\n",
      "2021-05-15 10:41:39.548 | CRITICAL | __main__:<module>:7 - Total time taken: 10.042606115341187 sec\n"
     ]
    }
   ],
   "source": [
    "start_time = time.time()\n",
    "rslt = []\n",
    "for i in range(10):\n",
    "    ind_rslt = get_square(i)\n",
    "    rslt.append(ind_rslt)\n",
    "total_time = time.time() - start_time\n",
    "logger.critical(f\"Total time taken: {total_time} sec\")\n",
    "    "
   ]
  },
  {
   "cell_type": "markdown",
   "id": "a7fd85db-5310-4675-92f0-3bca468bb802",
   "metadata": {},
   "source": [
    "## Using list comprehension python"
   ]
  },
  {
   "cell_type": "code",
   "execution_count": 10,
   "id": "1bf3d1c6-18a4-4a4b-b5c3-e0f3dd1b3505",
   "metadata": {},
   "outputs": [
    {
     "name": "stderr",
     "output_type": "stream",
     "text": [
      "2021-05-15 10:41:40.569 | INFO     | __main__:get_square:6 - The square of 0 after cubing it: 0.0\n",
      "2021-05-15 10:41:41.575 | INFO     | __main__:get_square:6 - The square of 1 after cubing it: 1.0\n",
      "2021-05-15 10:41:42.578 | INFO     | __main__:get_square:6 - The square of 2 after cubing it: 64.0\n",
      "2021-05-15 10:41:43.582 | INFO     | __main__:get_square:6 - The square of 3 after cubing it: 729.0\n",
      "2021-05-15 10:41:44.584 | INFO     | __main__:get_square:6 - The square of 4 after cubing it: 4096.0\n",
      "2021-05-15 10:41:45.589 | INFO     | __main__:get_square:6 - The square of 5 after cubing it: 15625.0\n",
      "2021-05-15 10:41:46.594 | INFO     | __main__:get_square:6 - The square of 6 after cubing it: 46656.0\n",
      "2021-05-15 10:41:47.598 | INFO     | __main__:get_square:6 - The square of 7 after cubing it: 117649.0\n",
      "2021-05-15 10:41:48.602 | INFO     | __main__:get_square:6 - The square of 8 after cubing it: 262144.0\n",
      "2021-05-15 10:41:49.606 | INFO     | __main__:get_square:6 - The square of 9 after cubing it: 531441.0\n",
      "2021-05-15 10:41:49.608 | CRITICAL | __main__:<module>:4 - Total time taken: 10.040563106536865 sec\n"
     ]
    }
   ],
   "source": [
    "start_time = time.time()\n",
    "rslt = [get_square(i) for i in range(10)]\n",
    "total_time = time.time() - start_time\n",
    "logger.critical(f\"Total time taken: {total_time} sec\")"
   ]
  },
  {
   "cell_type": "markdown",
   "id": "14684dda-dec3-4b90-bac9-64a954fff54a",
   "metadata": {},
   "source": [
    "## Performing parallelization using joblib"
   ]
  },
  {
   "cell_type": "code",
   "execution_count": 11,
   "id": "6902bbc5-c1b0-4678-b69e-bb724e87f7fd",
   "metadata": {},
   "outputs": [],
   "source": [
    "def parallelize(sources,n_jobs=4):\n",
    "    #time.sleep(1)\n",
    "    logger.info(f\"Total no. of files: {len(sources)}\")\n",
    "    logger.info(f\"Total no. of parallel jobs: {n_jobs}\")\n",
    "    executor = Parallel(n_jobs=n_jobs, prefer=\"threads\",require=\"sharedmem\")\n",
    "    tasks = (delayed(get_square)(src) for src in sources)    ### Replace your function here\n",
    "    executor(tasks)\n",
    "    logger.info(f\"-- Task Completed --\")\n",
    "    "
   ]
  },
  {
   "cell_type": "code",
   "execution_count": 12,
   "id": "9760e39b-4241-40bb-aaf2-f5e0760b980b",
   "metadata": {},
   "outputs": [
    {
     "name": "stderr",
     "output_type": "stream",
     "text": [
      "2021-05-15 10:41:49.642 | INFO     | __main__:<module>:2 - Total number of cpu that can be used for parallel processing: 8\n",
      "2021-05-15 10:41:49.645 | INFO     | __main__:parallelize:3 - Total no. of files: 10\n",
      "2021-05-15 10:41:49.647 | INFO     | __main__:parallelize:4 - Total no. of parallel jobs: 8\n",
      "2021-05-15 10:41:50.655 | INFO     | __main__:get_square:6 - The square of 4 after cubing it: 4096.0\n",
      "2021-05-15 10:41:50.656 | INFO     | __main__:get_square:6 - The square of 2 after cubing it: 64.0\n",
      "2021-05-15 10:41:50.657 | INFO     | __main__:get_square:6 - The square of 1 after cubing it: 1.0\n",
      "2021-05-15 10:41:50.659 | INFO     | __main__:get_square:6 - The square of 0 after cubing it: 0.0\n",
      "2021-05-15 10:41:50.659 | INFO     | __main__:get_square:6 - The square of 3 after cubing it: 729.0\n",
      "2021-05-15 10:41:50.660 | INFO     | __main__:get_square:6 - The square of 6 after cubing it: 46656.0\n",
      "2021-05-15 10:41:50.661 | INFO     | __main__:get_square:6 - The square of 7 after cubing it: 117649.0\n",
      "2021-05-15 10:41:50.662 | INFO     | __main__:get_square:6 - The square of 5 after cubing it: 15625.0\n",
      "2021-05-15 10:41:51.666 | INFO     | __main__:get_square:6 - The square of 8 after cubing it: 262144.0\n",
      "2021-05-15 10:41:51.670 | INFO     | __main__:get_square:6 - The square of 9 after cubing it: 531441.0\n",
      "2021-05-15 10:41:51.765 | INFO     | __main__:parallelize:8 - -- Task Completed --\n",
      "2021-05-15 10:41:51.769 | CRITICAL | __main__:<module>:6 - Total time taken after parallelization: 2.1236886978149414 sec\n"
     ]
    }
   ],
   "source": [
    "total_cpu_count = multiprocessing.cpu_count()    ## Total number of cpu count; You can change this as per your required; Here I have used maximum cpu in my computer for execution\n",
    "logger.info(f\"Total number of cpu that can be used for parallel processing: {total_cpu_count}\")\n",
    "start_time = time.time()\n",
    "parallelize(sources=[i for i in range(0,10)],n_jobs=total_cpu_count)     ## put list of your data here\n",
    "total_time = time.time() - start_time\n",
    "logger.critical(f\"Total time taken after parallelization: {total_time} sec\")"
   ]
  },
  {
   "cell_type": "code",
   "execution_count": null,
   "id": "340a1600-e468-479d-9d06-ee3975fa4541",
   "metadata": {},
   "outputs": [],
   "source": []
  }
 ],
 "metadata": {
  "kernelspec": {
   "display_name": "Python 3",
   "language": "python",
   "name": "python3"
  },
  "language_info": {
   "codemirror_mode": {
    "name": "ipython",
    "version": 3
   },
   "file_extension": ".py",
   "mimetype": "text/x-python",
   "name": "python",
   "nbconvert_exporter": "python",
   "pygments_lexer": "ipython3",
   "version": "3.6.9"
  }
 },
 "nbformat": 4,
 "nbformat_minor": 5
}
